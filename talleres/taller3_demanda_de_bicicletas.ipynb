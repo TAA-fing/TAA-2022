{
 "cells": [
  {
   "cell_type": "markdown",
   "id": "ebc8a7a7",
   "metadata": {
    "id": "BK9dmG7MSOya"
   },
   "source": [
    "#  <center> Taller  de Aprendizaje Automático </center>\n",
    "##  <center> Taller 3: Demanda de bicicletas compartidas  </center>"
   ]
  },
  {
   "cell_type": "markdown",
   "id": "139941b4",
   "metadata": {
    "id": "8PjU4ItOTaGr"
   },
   "source": [
    "# Introducción\n",
    "\n",
    "En esta actividad se trabajará sobre el *dataset* de la competencia [*Bike Sharing Demand*](https://www.kaggle.com/c/bike-sharing-demand) de *Kaggle*. El objetivo de la competencia, predecir la demanda de bicicletas a partir de la combinación de datos históricos sobre demanda y clima. \n",
    "\n",
    "El conjunto corresponde a datos de alquiler por hora y abarcan dos años de información. El subconjunto de *train* está compuesto por los primeros 19 días de cada mes, mientras que el subconjunto de *test* va desde 20 hasta el final del mes. Este último debe ser utilizado solamente en la parte 10 para subir los resultados a la página de la competencia.\n",
    "\n",
    "En esta actividad nos centraremos en el algoritmo **Decision Trees**, el cual al igual que *SVM* es un algoritmo versatil que se utiliza en problemas tanto de clasificación como de regresión. También trabajaremos con algoritmos basados en métodos de ensamble de estimadores, como son **Random Forest** y **Gradient Boosting**, que utilizan como estimador base **Decision Trees**.\n"
   ]
  },
  {
   "cell_type": "markdown",
   "id": "e0efd4b3",
   "metadata": {
    "id": "hnXnqw5KS3zd"
   },
   "source": [
    "## Objetivos\n",
    "\n",
    "\n",
    "*   Conocer los estimadores *Decision Trees*, entender cómo funcionan para un problema de regresión, ver ventajas y desventajas.\n",
    "*   Familiarizarse con los métodos de ensamblado de estimadores y entender cual es el objetivo de usar estos métodos.\n",
    "*   Incorporar una función de transformación de columnas y una función de medida de desempeño personalizadas.\n"
   ]
  },
  {
   "cell_type": "markdown",
   "id": "graphic-longitude",
   "metadata": {
    "id": "graphic-longitude"
   },
   "source": [
    "## Formas de trabajo"
   ]
  },
  {
   "cell_type": "markdown",
   "id": "similar-surgery",
   "metadata": {
    "heading_collapsed": true,
    "id": "similar-surgery"
   },
   "source": [
    "#### Opción 1: Trabajar localmente"
   ]
  },
  {
   "cell_type": "markdown",
   "id": "616868da",
   "metadata": {
    "heading_collapsed": true,
    "hidden": true,
    "id": "616868da"
   },
   "source": [
    "##### Descarga de datos disponibles en Kaggle"
   ]
  },
  {
   "cell_type": "markdown",
   "id": "9a76c306",
   "metadata": {
    "hidden": true,
    "id": "9a76c306"
   },
   "source": [
    "Luego, para descargar el dataset de IMDb reviews:"
   ]
  },
  {
   "cell_type": "code",
   "execution_count": null,
   "id": "a25f6679",
   "metadata": {
    "hidden": true,
    "id": "a25f6679",
    "outputId": "d70c8c1e-530a-45ef-e259-f3addee20c02",
    "scrolled": true
   },
   "outputs": [],
   "source": [
    "!kaggle competitions download -c bike-sharing-demand"
   ]
  },
  {
   "cell_type": "markdown",
   "id": "e60a6af5",
   "metadata": {
    "hidden": true,
    "id": "e60a6af5"
   },
   "source": [
    "Descomprima el archivo descargado:"
   ]
  },
  {
   "cell_type": "code",
   "execution_count": null,
   "id": "f5598637",
   "metadata": {
    "hidden": true
   },
   "outputs": [],
   "source": [
    "import shutil\n",
    "shutil.unpack_archive('./bike-sharing-demand.zip', './')"
   ]
  },
  {
   "cell_type": "markdown",
   "id": "efficient-thailand",
   "metadata": {
    "heading_collapsed": true,
    "id": "efficient-thailand"
   },
   "source": [
    "#### Opción 2:  Trabajar en *Colab*. "
   ]
  },
  {
   "cell_type": "markdown",
   "id": "compound-criminal",
   "metadata": {
    "hidden": true,
    "id": "compound-criminal"
   },
   "source": [
    "Se puede trabajar en Google Colab. Para ello es necesario contar con una cuenta de **google drive** y ejecutar un notebook almacenado en dicha cuenta. De lo contrario, no se conservarán los cambios realizados en la sesión. En caso de ya contar con una cuenta, se puede abrir el notebook y luego ir a `Archivo-->Guardar una copia en drive`. "
   ]
  },
  {
   "cell_type": "markdown",
   "id": "e_rith_Skga5",
   "metadata": {
    "hidden": true,
    "id": "e_rith_Skga5"
   },
   "source": [
    "La siguiente celda monta el disco personal del drive:"
   ]
  },
  {
   "cell_type": "code",
   "execution_count": null,
   "id": "timely-power",
   "metadata": {
    "colab": {
     "base_uri": "https://localhost:8080/"
    },
    "executionInfo": {
     "elapsed": 21875,
     "status": "ok",
     "timestamp": 1645451536176,
     "user": {
      "displayName": "Emiliano Acevedo",
      "photoUrl": "https://lh3.googleusercontent.com/a/default-user=s64",
      "userId": "09255842080725499836"
     },
     "user_tz": 180
    },
    "hidden": true,
    "id": "timely-power",
    "outputId": "9b878f94-05b8-4598-baa4-08a3e132868d"
   },
   "outputs": [],
   "source": [
    "from google.colab import drive\n",
    "drive.mount('/content/drive')"
   ]
  },
  {
   "cell_type": "markdown",
   "id": "9WC47WBdkeqj",
   "metadata": {
    "hidden": true,
    "id": "9WC47WBdkeqj"
   },
   "source": [
    "A continuación, vaya a su cuenta de [Kaggle](https://www.kaggle.com/) (o cree una si aún no lo ha hecho), haga clic en el icono de perfil en la esquina superior derecha de la pantalla y seleccione \"Your Account\" en la lista desplegable. Luego, seleccione la viñeta \"Account\" y haga clic en \"Create new API token\". Entonces un archivo llamado kaggle.json se descargará automáticamente a su carpeta de descargas. Este archivo contiene sus credenciales de inicio de sesión para permitirle acceder a la API."
   ]
  },
  {
   "cell_type": "markdown",
   "id": "changing-enhancement",
   "metadata": {
    "hidden": true,
    "id": "changing-enhancement"
   },
   "source": [
    "La siguiente celda realiza la configuración necesaria para obtener datos desde la plataforma Kaggle. Le solicitará que suba el archivo kaggle.json descargado anteriormente."
   ]
  },
  {
   "cell_type": "code",
   "execution_count": null,
   "id": "convinced-person",
   "metadata": {
    "colab": {
     "base_uri": "https://localhost:8080/",
     "height": 90,
     "resources": {
      "http://localhost:8080/nbextensions/google.colab/files.js": {
       "data": "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",
       "headers": [
        [
         "content-type",
         "application/javascript"
        ]
       ],
       "ok": true,
       "status": 200,
       "status_text": ""
      }
     }
    },
    "executionInfo": {
     "elapsed": 31400,
     "status": "ok",
     "timestamp": 1645451632279,
     "user": {
      "displayName": "Emiliano Acevedo",
      "photoUrl": "https://lh3.googleusercontent.com/a/default-user=s64",
      "userId": "09255842080725499836"
     },
     "user_tz": 180
    },
    "hidden": true,
    "id": "convinced-person",
    "outputId": "59951021-dcb6-4622-e24e-062806a6ce7f"
   },
   "outputs": [],
   "source": [
    "import warnings\n",
    "warnings.filterwarnings('ignore')\n",
    "from google.colab import files\n",
    "\n",
    "# El siguiente archivo solicitado es para habilitar la API de Kaggle en el entorno que está trabajando.\n",
    "# Este archivo se descarga entrando a su perfíl de Kaggle, en la sección API, presionando donde dice: Create New API Token\n",
    "\n",
    "uploaded = files.upload()\n",
    "\n",
    "for fn in uploaded.keys():\n",
    "    print('User uploaded file \"{name}\" with length {length} bytes'.format(\n",
    "      name=fn, length=len(uploaded[fn])))\n",
    "\n",
    "#Then move kaggle.json into the folder where the API expects to find it.\n",
    "!mkdir -p ~/.kaggle/ && mv kaggle.json ~/.kaggle/ && chmod 600 ~/.kaggle/kaggle.json"
   ]
  },
  {
   "cell_type": "markdown",
   "id": "fossil-australian",
   "metadata": {
    "hidden": true,
    "id": "fossil-australian"
   },
   "source": [
    "Una vez guardado el *token* se pueden descargar los datos, en este caso se bajarán los datos del dataset IMDb reviews:"
   ]
  },
  {
   "cell_type": "code",
   "execution_count": null,
   "id": "independent-eagle",
   "metadata": {
    "colab": {
     "base_uri": "https://localhost:8080/"
    },
    "executionInfo": {
     "elapsed": 2104,
     "status": "ok",
     "timestamp": 1645451663400,
     "user": {
      "displayName": "Emiliano Acevedo",
      "photoUrl": "https://lh3.googleusercontent.com/a/default-user=s64",
      "userId": "09255842080725499836"
     },
     "user_tz": 180
    },
    "hidden": true,
    "id": "independent-eagle",
    "outputId": "bfe00bd3-81a5-487f-e60f-8b6e2ce1a189"
   },
   "outputs": [],
   "source": [
    "!kaggle competitions download -c bike-sharing-demand"
   ]
  },
  {
   "cell_type": "code",
   "execution_count": null,
   "id": "d8d263ed",
   "metadata": {
    "hidden": true
   },
   "outputs": [],
   "source": [
    "!unzip bike-sharing-demand.zip"
   ]
  },
  {
   "cell_type": "markdown",
   "id": "sudden-therapist",
   "metadata": {
    "hidden": true,
    "id": "sudden-therapist"
   },
   "source": [
    "<table align=\"left\">\n",
    "  <td>\n",
    "    <a target=\"_blank\" href=\"https://colab.research.google.com/github/TAA-fing/TAA-2022/blob/main/talleres/taller3_demanda_de_bicicletas.ipynb\"><img src=\"https://www.tensorflow.org/images/colab_logo_32px.png\" />Ejecutar en Google Colab</a>\n",
    "  </td>\n",
    "</table>"
   ]
  },
  {
   "cell_type": "markdown",
   "id": "c55fa687",
   "metadata": {},
   "source": [
    "## Paquetes a utilizar y Carga de Datos"
   ]
  },
  {
   "cell_type": "markdown",
   "id": "9c9f70ec",
   "metadata": {},
   "source": [
    "En esta actividad se utilizarán algunas bibliotecas auxiliares que deberán ser instaladas. Ejecutar la siguiente celda hasta que se ejecute sin errores. En caso de error, se puede instalar el paquete faltante desde el notebook con el comando:\n",
    "\n",
    "`!pip install paquete_faltante`"
   ]
  },
  {
   "cell_type": "code",
   "execution_count": null,
   "id": "f166004a",
   "metadata": {},
   "outputs": [],
   "source": [
    "#import comet_ml in the top of your file\n",
    "from comet_ml import Experiment\n",
    "import matplotlib.pyplot as plt\n",
    "import numpy as np\n",
    "import pandas as pd\n",
    "\n",
    "### (Opcional) librería de visualización de datos\n",
    "#import seaborn as sns\n",
    "#sns.set_theme(style=\"whitegrid\")\n",
    "\n",
    "df_train = pd.read_csv('train.csv')\n",
    "df_test = pd.read_csv('test.csv')\n",
    "df_submission = pd.read_csv('sampleSubmission.csv')"
   ]
  },
  {
   "cell_type": "markdown",
   "id": "76427c79",
   "metadata": {},
   "source": [
    "## Parte 1 - Análisis de los datos"
   ]
  },
  {
   "cell_type": "markdown",
   "id": "5b5b587e",
   "metadata": {},
   "source": [
    "#### Objetivos\n",
    "\n",
    " - Analizar el conjunto de datos con las diferentes funciones de *pandas* que crea pertinente."
   ]
  },
  {
   "cell_type": "code",
   "execution_count": null,
   "id": "8e5d8fb6",
   "metadata": {},
   "outputs": [],
   "source": []
  },
  {
   "cell_type": "markdown",
   "id": "9570174a",
   "metadata": {},
   "source": [
    "#### Preguntas:\n",
    "\n",
    " - ¿Qué efecto tiene el tiempo (meteorológico) sobre el alquiler de bicicletas? ¿Es el mismo para clientes registrados y casuales? ¿Coincide esto con lo que asumiría a priori? \n",
    " - Vamos a trabajar con las codificaciones por defecto (salvo datetime que veremos en la Parte 2). ¿Le parece adecuado?\n",
    " - ¿Qué puede decir sobre la correlación entre *season* y *casual*?\n"
   ]
  },
  {
   "cell_type": "code",
   "execution_count": null,
   "id": "1a807b79",
   "metadata": {},
   "outputs": [],
   "source": []
  },
  {
   "cell_type": "markdown",
   "id": "145bd6e3",
   "metadata": {},
   "source": [
    "## Parte 2 - Características temporales"
   ]
  },
  {
   "cell_type": "markdown",
   "id": "e472a9ac",
   "metadata": {},
   "source": [
    "La primer columna de los datos (*datetime*) corresponde a las marcas de tiempo asociadas a cada instancia. Para que estos tengan el orden cronológico que representan es necesario pasarlos de tipo *string* a tipo *datetime*. Para esto *Pandas* proporciona la función *to_datetime()*. Correr la siguiente celda para hacer el cambio."
   ]
  },
  {
   "cell_type": "code",
   "execution_count": null,
   "id": "4a149a7f",
   "metadata": {},
   "outputs": [],
   "source": [
    "df_train['datetime'] = pd.to_datetime(df_train['datetime'])"
   ]
  },
  {
   "cell_type": "markdown",
   "id": "7e20c657",
   "metadata": {
    "id": "5tdL4WSLHi3r"
   },
   "source": [
    "##### La figura siguiente muestra cómo varía la cantidad de bicicletas alquiladas en función del tiempo. "
   ]
  },
  {
   "cell_type": "code",
   "execution_count": null,
   "id": "8e738874",
   "metadata": {
    "ExecuteTime": {
     "end_time": "2022-02-09T16:56:21.063004Z",
     "start_time": "2022-02-09T16:56:20.820489Z"
    },
    "colab": {
     "base_uri": "https://localhost:8080/",
     "height": 229
    },
    "id": "4GfkS6TPH3lC",
    "outputId": "d91dad49-48b8-4ad5-cbb4-180ae94e30d7"
   },
   "outputs": [],
   "source": [
    "df_train.plot(x='datetime', y='count', figsize=[15,3],kind='scatter',color='tab:blue')\n",
    "plt.xlabel('datetime',fontsize='x-large')\n",
    "plt.ylabel('count',fontsize='x-large')\n",
    "plt.show()"
   ]
  },
  {
   "cell_type": "markdown",
   "id": "05b6fe1f",
   "metadata": {},
   "source": [
    "#### Preguntas:\n",
    "\n",
    "- ¿Le parece razonable la division en conjuntos de train y test que se tomó en el desafío?\n",
    "- ¿Cómo varían temporalmente (día, semana, mes, año) los alquileres?"
   ]
  },
  {
   "cell_type": "code",
   "execution_count": null,
   "id": "55539dae",
   "metadata": {},
   "outputs": [],
   "source": []
  },
  {
   "cell_type": "markdown",
   "id": "ed253584",
   "metadata": {
    "id": "KyhQ84zHpxEU"
   },
   "source": [
    "El tipo de dato *datetime* permite extraer de forma sencilla datos categóricos como la hora, el día de la semana, entre otros. La siguiente celda agrega a los datos de *train* estas nuevas características."
   ]
  },
  {
   "cell_type": "code",
   "execution_count": null,
   "id": "e5cdd872",
   "metadata": {
    "ExecuteTime": {
     "end_time": "2022-02-09T16:56:19.904848Z",
     "start_time": "2022-02-09T16:56:19.896904Z"
    },
    "id": "1gXeRQuJF_aj"
   },
   "outputs": [],
   "source": [
    "df_train['hour'] = df_train['datetime'].dt.hour\n",
    "df_train['weekday'] = df_train['datetime'].dt.weekday"
   ]
  },
  {
   "cell_type": "markdown",
   "id": "eb303255",
   "metadata": {},
   "source": [
    "#### Ejercicio:\n",
    "\n",
    " - Grafique count, registered y casual en función de las horas y el día de la semana. ([*Sugerencia:*](https://seaborn.pydata.org/generated/seaborn.barplot.html) Ejemplos de la librería *seaborn*)"
   ]
  },
  {
   "cell_type": "code",
   "execution_count": null,
   "id": "01a2d592",
   "metadata": {},
   "outputs": [],
   "source": []
  },
  {
   "cell_type": "markdown",
   "id": "22c0ff89",
   "metadata": {},
   "source": [
    "##### A partir de las gráficas responder las siguientes preguntas:\n",
    "\n",
    " - ¿Cómo explicaría la diferencia entre las distribuciones de los clientes registrados y casuales? \n",
    " - ¿Qué desventaja le encuentra a utilizar un regresor lineal para predecir los alquileres a partir de la hora del día?¿Cómo transformaría esta característica para paliar este problema? \n",
    " - ¿Es necesaria esta transformación cuando se utilizan Árboles de Decisión?"
   ]
  },
  {
   "cell_type": "code",
   "execution_count": null,
   "id": "80e7a7f9",
   "metadata": {},
   "outputs": [],
   "source": []
  },
  {
   "cell_type": "markdown",
   "id": "48985be3",
   "metadata": {},
   "source": [
    "#### Selección de Características:\n",
    "\n",
    "*   Entre el día, el mes y el año ¿cuáles de estos datos les pareces agregar como nuevas características y cuáles no? y ¿Por qué?\n",
    "*   Agregar las características seleccionadas."
   ]
  },
  {
   "cell_type": "code",
   "execution_count": null,
   "id": "56288065",
   "metadata": {},
   "outputs": [],
   "source": []
  },
  {
   "cell_type": "markdown",
   "id": "c1f79692",
   "metadata": {},
   "source": [
    "## Parte 3 - Preparación de los datos y Métrica de evaluación"
   ]
  },
  {
   "cell_type": "markdown",
   "id": "a3dc26ee",
   "metadata": {},
   "source": [
    "Previo a trabajar con los estimadores:\n",
    "\n",
    "*   Apartar la columna objetivo y eliminarla del conjunto de entrenamiento. \n",
    "*   Eliminar las columnas *'casual'* y *'registered'*. ¿Por qué esto es necesario?.\n",
    "*   Eliminar la columna *'datetime'*.\n",
    "\n",
    "Durante la actividad los estimadores deben ser evaluados con la misma medida de desempeño utilizada en la competencia: \n",
    "\n",
    "Root Mean Squared Logarithmic Error (RMSLE)\n",
    "$$\\sqrt{\\frac{1}{n}\\sum_{i}^{n}\\big(\\log(y_{i} + 1) - \\log(\\hat{y}_{i} + 1)\\big)^2}$$\n",
    "\n",
    "Este tipo de medida se utiliza cuando los valores a estimar son grandes. La librería *Scikit-Learn* incluye la función de desempeño [*mean_squared_log_error*](https://scikit-learn.org/stable/modules/generated/sklearn.metrics.mean_squared_log_error.html#sklearn.metrics.mean_squared_log_error) (MSLE), esta función se puede utilizar  para la validación ya que alcanza las mismas soluciones que su raíz (RMSLE). De igual forma los resultados se deben mostrar con RMSLE."
   ]
  },
  {
   "cell_type": "code",
   "execution_count": null,
   "id": "9c1af6c1",
   "metadata": {},
   "outputs": [],
   "source": []
  },
  {
   "cell_type": "markdown",
   "id": "0963b059",
   "metadata": {},
   "source": [
    "## Parte 4 - Decision Trees"
   ]
  },
  {
   "cell_type": "markdown",
   "id": "55ee2243",
   "metadata": {},
   "source": [
    "#### Objetivos\n",
    "\n",
    "*   Importar la función *DecisionTreeRegressor()* de *Scikit-Learn*. \n",
    "*   Aplicar validación cruzada a un estimador con los hiper-parámetros por defecto.\n",
    "*   Graficar los valores de RMSLE de entrenamiento y validación. Calcular la media y la desviación estandar e incluir esta última en el gráfico. Para lo último utilizar la función *fill_between()* de *matplotlib*. "
   ]
  },
  {
   "cell_type": "code",
   "execution_count": null,
   "id": "c03fb81c",
   "metadata": {},
   "outputs": [],
   "source": []
  },
  {
   "cell_type": "markdown",
   "id": "0aea55bf",
   "metadata": {},
   "source": [
    "#### Preguntas:\n",
    "\n",
    "*   ¿Qué fenómeno se logra apreciar en el gráfico? ¿A qué se debe? ¿Por qué esto es un problema?\n",
    "*   Indicar y describir alguno de los hiper-parámetros que la función *DecisionTreeRegressor()* ofrece para limitar la complejidad del estimador."
   ]
  },
  {
   "cell_type": "code",
   "execution_count": null,
   "id": "a62a8a87",
   "metadata": {},
   "outputs": [],
   "source": []
  },
  {
   "cell_type": "markdown",
   "id": "4eddc5f6",
   "metadata": {
    "heading_collapsed": true
   },
   "source": [
    "#### Ejemplo Lack of smoothness\n",
    "\n",
    "Como ejemplo se tomará la siguiente situación:\n",
    "\n",
    " - Domingo \n",
    " - Despejado o Parcialmente nublado\n",
    " - A las 15 horas \n",
    " - En primavera \n",
    " \n",
    "Se observará el efecto de la sensación térmica en la predicción de alquileres de bicicletas.\n",
    "\n",
    " - ¿Cómo espera que sea dicho efecto en un rango de 10°C a 30°C?"
   ]
  },
  {
   "cell_type": "code",
   "execution_count": null,
   "id": "e32cf8a7",
   "metadata": {
    "hidden": true
   },
   "outputs": [],
   "source": [
    "index = 2345\n",
    "X_prueba = df_train.iloc[index:index+1]\n",
    "X_prueba"
   ]
  },
  {
   "cell_type": "code",
   "execution_count": null,
   "id": "fcb6c319",
   "metadata": {
    "hidden": true
   },
   "outputs": [],
   "source": [
    "X_prueba = pd.concat([X_prueba]*21,ignore_index=True)\n",
    "\n",
    "index = 0\n",
    "for k in np.linspace(10,29,20):\n",
    "    X_prueba.loc[index,'atemp']= k\n",
    "    index += 1"
   ]
  },
  {
   "cell_type": "code",
   "execution_count": null,
   "id": "841a9fe8",
   "metadata": {
    "hidden": true
   },
   "outputs": [],
   "source": [
    "regressor.fit(df_train,y_train)\n",
    "\n",
    "plt.figure(figsize=(12,6))\n",
    "plt.stem(np.linspace(10,30,21),regressor.predict(X_prueba),bottom=200)\n",
    "plt.xlabel('Sensación Térmica',fontsize='x-large')\n",
    "plt.ylabel('Count',fontsize='x-large')\n",
    "plt.xticks(np.linspace(10,30,11),fontsize='large')\n",
    "plt.yticks(fontsize='large')\n",
    "plt.show()"
   ]
  },
  {
   "cell_type": "markdown",
   "id": "68af4229",
   "metadata": {
    "hidden": true
   },
   "source": [
    " - Observe el cambio que genera la sensación térmica a la salida (en particular el pasar de una sensación térmica de 24°C a 25°C). (incremento del 20%)\n",
    " \n",
    " - ¿Qué desventaja le encuenta a los árboles de decisión en comparación con modelos lineales?"
   ]
  },
  {
   "cell_type": "markdown",
   "id": "76dc0eda",
   "metadata": {},
   "source": [
    "### Ajuste Fino\n",
    "\n",
    "#### Objetivos\n",
    "\n",
    "*   Seleccionar uno de los hiper-parámetros y encontrar el mejor estimador.\n",
    "*   Graficar los valores de RMSLE de entrenamiento y validación. Calcular la media y la desviación estandar e incluir esta última en el gráfico. Comparar con los resultados anteriores.\n",
    "*   Graficar cómo varían los valores de RMSLE de entrenamiento y validación, para diferentes valores del hiper-parámetro.\n",
    "*   Mostrar el mejor valor RMSLE (promedio de todos los *folds*) y el valor del hiper-parámetro.\n",
    "*   Visualizar el árbol hasta los nodos de profundidad 2 utilizando la función *plot_tree()*. Agrandar el tamaño de la imagen de manera de poder leer la descripción de cada nodo.\n",
    "*   Analizar las decisiones que está tomando el árbol para los primeros nodos.\n",
    "*   Graficar los primeros 200 valores objetivo junto con sus predicciones."
   ]
  },
  {
   "cell_type": "code",
   "execution_count": null,
   "id": "c8e6e3d2",
   "metadata": {},
   "outputs": [],
   "source": []
  },
  {
   "cell_type": "markdown",
   "id": "19c30000",
   "metadata": {},
   "source": [
    "## Parte 5 - Random Forest"
   ]
  },
  {
   "cell_type": "markdown",
   "id": "8dd12c53",
   "metadata": {
    "id": "UH30YXF-ng7I"
   },
   "source": [
    "#### Preguntas sobre métodos de Ensamble:\n",
    "\n",
    "*   ¿Cuáles son las ventajes de los métodos de Ensamble?\n",
    "*   ¿A qué métodos de ensamble está asociado *Random Forest*?.\n",
    "*   Importar la función *RandomForestRegressor()* de *Scikit-Learn*.\n",
    "*   Indicar y describir los principales hiper-parámetros correspondientes a los métodos de ensamble que ofrece la función.\n",
    "\n",
    "\n"
   ]
  },
  {
   "cell_type": "code",
   "execution_count": null,
   "id": "232aa776",
   "metadata": {},
   "outputs": [],
   "source": []
  },
  {
   "cell_type": "markdown",
   "id": "9818b9ca",
   "metadata": {
    "id": "mCKoamhsreLa"
   },
   "source": [
    "#### Ajuste fino\n",
    "\n",
    "\n",
    "\n",
    "*   Encontrar el mejor estimador para *Random Forest* usando como estimador base el encontrado en la parte 4.\n",
    "*   Graficar los valores de RMSLE de entrenamiento y validación. Calcular la media y la desviación estandar e incluir esta última en el gráfico. Comparar con los resultados correspondientes de la parte 4.\n",
    "*   Mostrar el mejor valor de RMSLE (promedio de todos los folds) y compararlo con el de la parte 4. Mostrar los valores seleccionados de los hiper-parámetros.\n",
    "*   ¿Qué ventaja se pierde con repecto a usar un sólo árbol?\n",
    "*   Graficar los primeros 200 valores objetivo junto con sus predicciones. Comparar con el gráfico correspondiente de la parte 4.\n",
    "*   Mostrar la importancia de cada característica utilizando la variable *feature_importances_*.\n",
    "\n"
   ]
  },
  {
   "cell_type": "code",
   "execution_count": null,
   "id": "c6f39d1a",
   "metadata": {},
   "outputs": [],
   "source": []
  },
  {
   "cell_type": "markdown",
   "id": "49048049",
   "metadata": {},
   "source": [
    "## Parte 6 - Gradient Boosting"
   ]
  },
  {
   "cell_type": "markdown",
   "id": "86df3bf5",
   "metadata": {
    "id": "H_czb_XrDSCI"
   },
   "source": [
    "#### XGBoost\n",
    "\n",
    "*   Indicar cuál es la principal diferencia entre *Bagging* y *Boosting*.\n",
    "*   Importar la función *XGBRegressor()* de la librería [*xgboost*](https://github.com/dmlc/xgboost).\n",
    "*   Este estimador a diferencia de los anteriores puede devolver predicciones negativas para estos datos. Indicar en que caso se pueda dar esto y por qué esto no sucedía con los estimadores anteriores.\n",
    "*   Las predicciones negativas no pueden ser evaluadas por RMSLE. Por lo tanto, crear una nueva función de evaluación que fuerce a cero todos los valores negativos de las predicciones y luego calcule el valor de RMSLE. Para esto se debe utilizar la función *make_score* de *Sickit-Learn*, para que la nueva función pueda ser utilizada en las funciones de selección de modelos.\n",
    "\n",
    "\n",
    "**Nota:** *Scikit-Learn* también ofrece una implementación de *Gradient Boosting*, pero *XGBRegressor()* es la implementación de [*eXtreme Gradient Boosting*](https://arxiv.org/pdf/1603.02754.pdf?__hstc=133736337.1bb630f9cde2cb5f07430159d50a3c91.1513641600097.1513641600098.1513641600099.1&__hssc=133736337.1.1513641600100&__hsfp=528229161) un variante del algoritmo tradicional que dentro de algunas ventajas requiere menos tiempo de entrenamiento. La implementación de las funciones de la libreía son muy similares a las de *Scikit-Learn*, de igual forma aquí le dejamos un [ejemplo](https://www.kaggle.com/alexisbcook/xgboost) de cómo usarla. \n",
    "\n",
    "\n",
    "\n",
    "\n",
    "\n"
   ]
  },
  {
   "cell_type": "code",
   "execution_count": null,
   "id": "f7c54883",
   "metadata": {},
   "outputs": [],
   "source": []
  },
  {
   "cell_type": "markdown",
   "id": "c6b1f9fa",
   "metadata": {
    "id": "wNn-EIAtPsK3"
   },
   "source": [
    "#### Ajuste fino\n",
    "\n",
    "\n",
    "\n",
    "*   Encontrar el mejor estimador para *Gradient Boosting* usando como estimador base el encontrado en la parte 4.\n",
    "*   Graficar los valores de RMSLE de entrenamiento y validación. Calcular la media y la desviación estandar e incluir esta última en el gráfico. Comparar con los gráficos correspondientes.\n",
    "*   Mostrar el mejor valor de RMSLE (promedio de todos los folds) y compararlo con los anteriores. Mostrar los valores seleccionados de los hiper-parámetros.\n",
    "*   Graficar los primeros 200 valores objetivo junto con sus predicciones. Comparar con los gráficos corespondientes.\n",
    "*   ¿Qué compromiso hay entre los hiper-parámetros *n_estimators* y *learning_rate*?\n",
    "\n"
   ]
  },
  {
   "cell_type": "code",
   "execution_count": null,
   "id": "86a86420",
   "metadata": {},
   "outputs": [],
   "source": []
  },
  {
   "cell_type": "markdown",
   "id": "305ebb83",
   "metadata": {
    "id": "T_PPVnu3K7at"
   },
   "source": [
    "## Parte 7 - Custom Transformers \n",
    "\n",
    "- Construir un *Custom Transformer* que extraiga las caracterísicas temporales, siguiendo el ejemplo del capítulo 2 del libro."
   ]
  },
  {
   "cell_type": "code",
   "execution_count": null,
   "id": "506ca7a6",
   "metadata": {},
   "outputs": [],
   "source": []
  },
  {
   "cell_type": "markdown",
   "id": "037a2664",
   "metadata": {},
   "source": [
    "## Parte 8 - Generar un modelo"
   ]
  },
  {
   "cell_type": "markdown",
   "id": "24949b1b",
   "metadata": {},
   "source": [
    "#### Objetivos:\n",
    "\n",
    " - Generar el mejor modelo posible. Se podrá explorar posibles mejoras en cualquiera de las siguientes etapas:\n",
    "\n",
    "    - Parámetros óptimos del regresor.\n",
    "    - Predicción del logarítmo de alquileres. (Puede resultar útil la función `TransformedTargetRegressor` de *sklearn*).\n",
    "    - Predicción de alquileres registered y casual por separado.\n",
    "    - Separación de conjunto de Entrenamiento y Validación tomando en cuenta la generación del conjunto de Test del desafío."
   ]
  },
  {
   "cell_type": "code",
   "execution_count": null,
   "id": "9a42c486",
   "metadata": {},
   "outputs": [],
   "source": []
  },
  {
   "cell_type": "markdown",
   "id": "f32b446a",
   "metadata": {
    "id": "WFZQRFZRdCJ-"
   },
   "source": [
    "## Parte 9 - Submit\n",
    "Construir un *pipeline* para el estimador que consideren que tuvo mejor desempeño. El pre-procesamiento debe incluir la extracción de las nuevas características.\n",
    "\n",
    "Subir los resultados del *pipeline* para los datos de *test*,  a la [página](https://www.kaggle.com/c/bike-sharing-demand/submit) de la competencia."
   ]
  },
  {
   "cell_type": "code",
   "execution_count": null,
   "id": "2ded1859",
   "metadata": {},
   "outputs": [],
   "source": []
  },
  {
   "cell_type": "markdown",
   "id": "403f6d86",
   "metadata": {
    "id": "7PVgT9d_WUeQ"
   },
   "source": [
    "\n",
    "\n",
    "*   ¿Cuánto fue el valor de RMSLE para el conjunto de test?\n"
   ]
  },
  {
   "cell_type": "markdown",
   "id": "af5432cb",
   "metadata": {},
   "source": [
    "## Parte 10 - Proyecto"
   ]
  },
  {
   "cell_type": "markdown",
   "id": "31100764",
   "metadata": {},
   "source": [
    "#### Objetivos:\n",
    "\n",
    " - Probar clasificar los datos del proyecto con los distintos métodos vistos en este taller (Árboles de Decisión, Random Forest, XGBoost)."
   ]
  },
  {
   "cell_type": "code",
   "execution_count": null,
   "id": "27359a91",
   "metadata": {},
   "outputs": [],
   "source": []
  }
 ],
 "metadata": {
  "kernelspec": {
   "display_name": "Python 3",
   "language": "python",
   "name": "python3"
  },
  "language_info": {
   "codemirror_mode": {
    "name": "ipython",
    "version": 3
   },
   "file_extension": ".py",
   "mimetype": "text/x-python",
   "name": "python",
   "nbconvert_exporter": "python",
   "pygments_lexer": "ipython3",
   "version": "3.8.5"
  },
  "varInspector": {
   "cols": {
    "lenName": 16,
    "lenType": 16,
    "lenVar": 40
   },
   "kernels_config": {
    "python": {
     "delete_cmd_postfix": "",
     "delete_cmd_prefix": "del ",
     "library": "var_list.py",
     "varRefreshCmd": "print(var_dic_list())"
    },
    "r": {
     "delete_cmd_postfix": ") ",
     "delete_cmd_prefix": "rm(",
     "library": "var_list.r",
     "varRefreshCmd": "cat(var_dic_list()) "
    }
   },
   "types_to_exclude": [
    "module",
    "function",
    "builtin_function_or_method",
    "instance",
    "_Feature"
   ],
   "window_display": false
  }
 },
 "nbformat": 4,
 "nbformat_minor": 5
}
