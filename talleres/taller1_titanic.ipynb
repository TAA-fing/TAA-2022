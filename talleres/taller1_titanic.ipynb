{
 "cells": [
  {
   "cell_type": "markdown",
   "id": "presidential-train",
   "metadata": {
    "id": "presidential-train"
   },
   "source": [
    "#  <center> Taller  de Aprendizaje Automático </center>\n",
    "##  <center> Taller 1: Titanic  </center>"
   ]
  },
  {
   "cell_type": "markdown",
   "id": "functioning-mortality",
   "metadata": {
    "id": "functioning-mortality"
   },
   "source": [
    "En esta actividad se trabajará con el dataset [Titanic](https://www.kaggle.com/c/titanic/overview) disponible en Kaggle. El objetivo es predecir si un pasajero sobrevivirá a partir de atributos personales. La descripción de los atributos se encuentra en la misma [página](https://www.kaggle.com/c/titanic/data) en que se pueden bajar los datos. "
   ]
  },
  {
   "cell_type": "markdown",
   "id": "immediate-rwanda",
   "metadata": {
    "heading_collapsed": true,
    "id": "immediate-rwanda"
   },
   "source": [
    "## Objetivos Generales del Taller\n",
    " - Abordar un problema de aprendizaje automático de punta a punta\n",
    " - Familiarizarse con la biblioteca **pandas** para levantar y explorar los datos\n",
    " - Familiarizarse con los **pipelines** de **scikit-learn** como una forma de resolver un problema en forma ordenada."
   ]
  },
  {
   "cell_type": "markdown",
   "id": "graphic-longitude",
   "metadata": {
    "heading_collapsed": true,
    "id": "graphic-longitude"
   },
   "source": [
    "## Formas de trabajo"
   ]
  },
  {
   "cell_type": "markdown",
   "id": "similar-surgery",
   "metadata": {
    "heading_collapsed": true,
    "hidden": true,
    "id": "similar-surgery"
   },
   "source": [
    "#### Opción 1: Trabajar localmente"
   ]
  },
  {
   "cell_type": "markdown",
   "id": "40f58d99",
   "metadata": {
    "heading_collapsed": true,
    "hidden": true,
    "id": "40f58d99"
   },
   "source": [
    "##### Ambiente de Trabajo"
   ]
  },
  {
   "cell_type": "markdown",
   "id": "2ceaed09",
   "metadata": {
    "hidden": true,
    "id": "2ceaed09"
   },
   "source": [
    "Deberá trabajar en su propio ambiente de desarrollo. Ej: **conda environment**.  En caso de no contar con uno deberá crearlo ejecutando la siguiente línea de comando: \n",
    "\n",
    "`conda create -n TAA-py38 python=3.8`  \n",
    "\n",
    "Una vez creado se procede a activarlo: \n",
    "\n",
    "`conda activate TAA-py38`  \n",
    "\n",
    "Una vez activado se instalan en el entorno los paquetes que se utilizaran: \n",
    "\n",
    "`pip install numpy matplotlib pandas scikit-learn notebook`   \n",
    "\n",
    "También se utilizarán extensiones del Jupyter Notbook:\n",
    "\n",
    "`pip install jupyter_contrib_nbextensions`\n",
    "\n",
    "Una vez finalizada la instalación abra el Jupyter Notebook:\n",
    "\n",
    "`jupyter-notebook`\n",
    "\n",
    "Una vez abierto el Jupyter Notebook en la pestaña **Nbextensions** active las siguientes extensiones:\n",
    "\n",
    "'Collapsible Headings', 'Exercise2', 'Variable Inspector'. "
   ]
  },
  {
   "cell_type": "markdown",
   "id": "fresh-prize",
   "metadata": {
    "hidden": true,
    "id": "fresh-prize"
   },
   "source": [
    "Los paquetes faltantes se pueden instalar desde el notebook haciendo:    \n",
    "\n",
    "`!pip install paquete_faltante`"
   ]
  },
  {
   "cell_type": "markdown",
   "id": "baeed628",
   "metadata": {
    "heading_collapsed": true,
    "hidden": true,
    "id": "baeed628"
   },
   "source": [
    "##### Configuración de Kaggle"
   ]
  },
  {
   "cell_type": "markdown",
   "id": "a8d1d5d7",
   "metadata": {
    "hidden": true,
    "id": "a8d1d5d7"
   },
   "source": [
    "Para obtener los datos de Kaggle primero se instalará la librería de **Kaggle**"
   ]
  },
  {
   "cell_type": "code",
   "execution_count": 2,
   "id": "7a237ab0",
   "metadata": {
    "hidden": true,
    "id": "7a237ab0"
   },
   "outputs": [],
   "source": [
    "!pip install kaggle"
   ]
  },
  {
   "cell_type": "markdown",
   "id": "65511396",
   "metadata": {
    "hidden": true,
    "id": "65511396"
   },
   "source": [
    "A continuación, vaya a su cuenta de [Kaggle](https://www.kaggle.com/) (o cree una si aún no lo ha hecho), haga clic en el icono de perfil en la esquina superior derecha de la pantalla y seleccione \"Your Account\" en la lista desplegable. Luego, seleccione la viñeta \"Account\" y haga clic en \"Create new API token\". Entonces un archivo llamado kaggle.json se descargará automáticamente a su carpeta de descargas. Este archivo contiene sus credenciales de inicio de sesión para permitirle acceder a la API."
   ]
  },
  {
   "cell_type": "markdown",
   "id": "078a13be",
   "metadata": {
    "hidden": true,
    "id": "078a13be"
   },
   "source": [
    "Cree (en caso de no existir) la carpeta `.kaggle`. Modifique *nombre_usuario* por el nombre del usuario donde está trabajando."
   ]
  },
  {
   "cell_type": "code",
   "execution_count": 9,
   "id": "d93098d6",
   "metadata": {
    "hidden": true,
    "id": "d93098d6"
   },
   "outputs": [],
   "source": [
    "!mkdir C:\\Users\\nombre_usuario\\.kaggle"
   ]
  },
  {
   "cell_type": "markdown",
   "id": "1e95cc52",
   "metadata": {
    "hidden": true,
    "id": "1e95cc52"
   },
   "source": [
    "Mueva el archivo descargado a la carpeta creada. "
   ]
  },
  {
   "cell_type": "code",
   "execution_count": 10,
   "id": "6ac83b45",
   "metadata": {
    "hidden": true,
    "id": "6ac83b45",
    "outputId": "20d75cc7-5a6c-4a10-fdf3-0e03dfac8a2b"
   },
   "outputs": [
    {
     "name": "stdout",
     "output_type": "stream",
     "text": [
      "Se han movido         1 archivos.\n"
     ]
    }
   ],
   "source": [
    "#Comando en Windows\n",
    "!move C:\\Users\\nombre_usuario\\Downloads\\kaggle.json C:\\Users\\nombre_usuario\\.kaggle\n",
    "\n",
    "#Comando en Linux\n",
    "# !mv C:\\Users\\nombre_usuario\\Downloads\\kaggle.json C:\\Users\\nombre_usuario\\.kaggle"
   ]
  },
  {
   "cell_type": "markdown",
   "id": "616868da",
   "metadata": {
    "heading_collapsed": true,
    "hidden": true,
    "id": "616868da"
   },
   "source": [
    "##### Descarga de datos disponibles en Kaggle"
   ]
  },
  {
   "cell_type": "markdown",
   "id": "616b3cae",
   "metadata": {
    "hidden": true,
    "id": "616b3cae"
   },
   "source": [
    "Vaya a la competición de [Titanic](https://www.kaggle.com/c/titanic) en Kaggle y presione **Join Competition**. Si los pasos realizados anteriormente fueron exitosos, el comando a continuacion debería mostrar una lista de todas las competiciones activas de Kaggle. "
   ]
  },
  {
   "cell_type": "code",
   "execution_count": 12,
   "id": "c2435eef",
   "metadata": {
    "hidden": true,
    "id": "c2435eef",
    "outputId": "ebf3675e-9000-405a-fcf0-46b3d4d5d4f8",
    "scrolled": false
   },
   "outputs": [],
   "source": [
    "!kaggle competitions list"
   ]
  },
  {
   "cell_type": "markdown",
   "id": "9a76c306",
   "metadata": {
    "hidden": true,
    "id": "9a76c306"
   },
   "source": [
    "Luego, para descargar el dataset del Titanic:"
   ]
  },
  {
   "cell_type": "code",
   "execution_count": 3,
   "id": "a25f6679",
   "metadata": {
    "hidden": true,
    "id": "a25f6679",
    "outputId": "d70c8c1e-530a-45ef-e259-f3addee20c02",
    "scrolled": true
   },
   "outputs": [
    {
     "name": "stdout",
     "output_type": "stream",
     "text": [
      "Downloading titanic.zip to D:\\AA Emi\\Trabajo IIE\\TAA_Ofline\\Taller1\n",
      "\n"
     ]
    },
    {
     "name": "stderr",
     "output_type": "stream",
     "text": [
      "\n",
      "  0%|          | 0.00/34.1k [00:00<?, ?B/s]\n",
      "100%|##########| 34.1k/34.1k [00:00<00:00, 896kB/s]\n"
     ]
    }
   ],
   "source": [
    "!kaggle competitions download -c titanic"
   ]
  },
  {
   "cell_type": "markdown",
   "id": "e60a6af5",
   "metadata": {
    "hidden": true,
    "id": "e60a6af5"
   },
   "source": [
    "Descomprima el archivo descargado:"
   ]
  },
  {
   "cell_type": "code",
   "execution_count": 5,
   "id": "0c354714",
   "metadata": {
    "hidden": true,
    "id": "0c354714",
    "outputId": "61a66a02-6248-4c03-a6a6-b1eb711b2970"
   },
   "outputs": [],
   "source": [
    "# Forma 1\n",
    "!unzip titanic.zip\n",
    "\n",
    "# Forma 2\n",
    "# import zipfile\n",
    "# with zipfile.ZipFile(\"titanic.zip\",\"r\") as zip_ref:\n",
    "#     zip_ref.extractall(\"./\")"
   ]
  },
  {
   "cell_type": "markdown",
   "id": "efficient-thailand",
   "metadata": {
    "heading_collapsed": true,
    "hidden": true,
    "id": "efficient-thailand"
   },
   "source": [
    "#### Opción 2:  Trabajar en *Colab*. "
   ]
  },
  {
   "cell_type": "markdown",
   "id": "compound-criminal",
   "metadata": {
    "hidden": true,
    "id": "compound-criminal"
   },
   "source": [
    "Se puede trabajar en Google Colab. Para ello es necesario contar con una cuenta de **google drive** y ejecutar un notebook almacenado en dicha cuenta. De lo contrario, no se conservarán los cambios realizados en la sesión. En caso de ya contar con una cuenta, se puede abrir el notebook y luego ir a `Archivo-->Guardar una copia en drive`. "
   ]
  },
  {
   "cell_type": "markdown",
   "id": "e_rith_Skga5",
   "metadata": {
    "hidden": true,
    "id": "e_rith_Skga5"
   },
   "source": [
    "La siguiente celda monta el disco personal del drive:"
   ]
  },
  {
   "cell_type": "code",
   "execution_count": 1,
   "id": "timely-power",
   "metadata": {
    "colab": {
     "base_uri": "https://localhost:8080/"
    },
    "executionInfo": {
     "elapsed": 21875,
     "status": "ok",
     "timestamp": 1645451536176,
     "user": {
      "displayName": "Emiliano Acevedo",
      "photoUrl": "https://lh3.googleusercontent.com/a/default-user=s64",
      "userId": "09255842080725499836"
     },
     "user_tz": 180
    },
    "hidden": true,
    "id": "timely-power",
    "outputId": "9b878f94-05b8-4598-baa4-08a3e132868d"
   },
   "outputs": [
    {
     "name": "stdout",
     "output_type": "stream",
     "text": [
      "Mounted at /content/drive\n"
     ]
    }
   ],
   "source": [
    "from google.colab import drive\n",
    "drive.mount('/content/drive')"
   ]
  },
  {
   "cell_type": "markdown",
   "id": "9WC47WBdkeqj",
   "metadata": {
    "hidden": true,
    "id": "9WC47WBdkeqj"
   },
   "source": [
    "A continuación, vaya a su cuenta de [Kaggle](https://www.kaggle.com/) (o cree una si aún no lo ha hecho), haga clic en el icono de perfil en la esquina superior derecha de la pantalla y seleccione \"Your Account\" en la lista desplegable. Luego, seleccione la viñeta \"Account\" y haga clic en \"Create new API token\". Entonces un archivo llamado kaggle.json se descargará automáticamente a su carpeta de descargas. Este archivo contiene sus credenciales de inicio de sesión para permitirle acceder a la API."
   ]
  },
  {
   "cell_type": "markdown",
   "id": "changing-enhancement",
   "metadata": {
    "hidden": true,
    "id": "changing-enhancement"
   },
   "source": [
    "La siguiente celda realiza la configuración necesaria para obtener datos desde la plataforma Kaggle. Le solicitará que suba el archivo kaggle.json descargado anteriormente."
   ]
  },
  {
   "cell_type": "code",
   "execution_count": 2,
   "id": "convinced-person",
   "metadata": {
    "colab": {
     "base_uri": "https://localhost:8080/",
     "height": 90,
     "resources": {
      "http://localhost:8080/nbextensions/google.colab/files.js": {
       "data": "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",
       "headers": [
        [
         "content-type",
         "application/javascript"
        ]
       ],
       "ok": true,
       "status": 200,
       "status_text": ""
      }
     }
    },
    "executionInfo": {
     "elapsed": 31400,
     "status": "ok",
     "timestamp": 1645451632279,
     "user": {
      "displayName": "Emiliano Acevedo",
      "photoUrl": "https://lh3.googleusercontent.com/a/default-user=s64",
      "userId": "09255842080725499836"
     },
     "user_tz": 180
    },
    "hidden": true,
    "id": "convinced-person",
    "outputId": "59951021-dcb6-4622-e24e-062806a6ce7f"
   },
   "outputs": [
    {
     "data": {
      "text/html": [
       "\n",
       "     <input type=\"file\" id=\"files-9aac17d7-74a2-4517-9b3a-a05f89211782\" name=\"files[]\" multiple disabled\n",
       "        style=\"border:none\" />\n",
       "     <output id=\"result-9aac17d7-74a2-4517-9b3a-a05f89211782\">\n",
       "      Upload widget is only available when the cell has been executed in the\n",
       "      current browser session. Please rerun this cell to enable.\n",
       "      </output>\n",
       "      <script src=\"/nbextensions/google.colab/files.js\"></script> "
      ],
      "text/plain": [
       "<IPython.core.display.HTML object>"
      ]
     },
     "metadata": {},
     "output_type": "display_data"
    },
    {
     "name": "stdout",
     "output_type": "stream",
     "text": [
      "Saving kaggle.json to kaggle.json\n",
      "User uploaded file \"kaggle.json\" with length 66 bytes\n"
     ]
    }
   ],
   "source": [
    "import warnings\n",
    "warnings.filterwarnings('ignore')\n",
    "from google.colab import files\n",
    "\n",
    "# El siguiente archivo solicitado es para habilitar la API de Kaggle en el entorno que está trabajando.\n",
    "# Este archivo se descarga entrando a su perfíl de Kaggle, en la sección API, presionando donde dice: Create New API Token\n",
    "\n",
    "uploaded = files.upload()\n",
    "\n",
    "for fn in uploaded.keys():\n",
    "    print('User uploaded file \"{name}\" with length {length} bytes'.format(\n",
    "      name=fn, length=len(uploaded[fn])))\n",
    "\n",
    "#Then move kaggle.json into the folder where the API expects to find it.\n",
    "!mkdir -p ~/.kaggle/ && mv kaggle.json ~/.kaggle/ && chmod 600 ~/.kaggle/kaggle.json"
   ]
  },
  {
   "cell_type": "markdown",
   "id": "fossil-australian",
   "metadata": {
    "hidden": true,
    "id": "fossil-australian"
   },
   "source": [
    "Una vez guardado el *token* se pueden descargar los datos, en este caso se bajarán los datos de la competencia *titanic*."
   ]
  },
  {
   "cell_type": "code",
   "execution_count": 3,
   "id": "independent-eagle",
   "metadata": {
    "colab": {
     "base_uri": "https://localhost:8080/"
    },
    "executionInfo": {
     "elapsed": 2104,
     "status": "ok",
     "timestamp": 1645451663400,
     "user": {
      "displayName": "Emiliano Acevedo",
      "photoUrl": "https://lh3.googleusercontent.com/a/default-user=s64",
      "userId": "09255842080725499836"
     },
     "user_tz": 180
    },
    "hidden": true,
    "id": "independent-eagle",
    "outputId": "bfe00bd3-81a5-487f-e60f-8b6e2ce1a189"
   },
   "outputs": [
    {
     "name": "stdout",
     "output_type": "stream",
     "text": [
      "Warning: Looks like you're using an outdated API Version, please consider updating (server 1.5.12 / client 1.5.4)\n",
      "Downloading gender_submission.csv to /content\n",
      "  0% 0.00/3.18k [00:00<?, ?B/s]\n",
      "100% 3.18k/3.18k [00:00<00:00, 2.92MB/s]\n",
      "Downloading train.csv to /content\n",
      "  0% 0.00/59.8k [00:00<?, ?B/s]\n",
      "100% 59.8k/59.8k [00:00<00:00, 53.3MB/s]\n",
      "Downloading test.csv to /content\n",
      "  0% 0.00/28.0k [00:00<?, ?B/s]\n",
      "100% 28.0k/28.0k [00:00<00:00, 28.8MB/s]\n"
     ]
    }
   ],
   "source": [
    "!kaggle competitions download -c titanic"
   ]
  },
  {
   "cell_type": "markdown",
   "id": "sudden-therapist",
   "metadata": {
    "hidden": true,
    "id": "sudden-therapist"
   },
   "source": [
    "<table align=\"left\">\n",
    "  <td>\n",
    "    <a target=\"_blank\" href=\"https://colab.research.google.com/github/TAA-fing/TAA-2022/blob/main/taller1_titanic.ipynb\"><img src=\"https://www.tensorflow.org/images/colab_logo_32px.png\" />Ejecutar en Google Colab</a>\n",
    "  </td>\n",
    "</table>"
   ]
  },
  {
   "cell_type": "markdown",
   "id": "selected-expression",
   "metadata": {
    "heading_collapsed": true,
    "id": "selected-expression"
   },
   "source": [
    "## Parte 1 - Carga de datos"
   ]
  },
  {
   "cell_type": "markdown",
   "id": "hundred-impact",
   "metadata": {
    "hidden": true,
    "id": "hundred-impact"
   },
   "source": [
    "#### Objetivos:\n",
    "\n",
    " - Levantar el conjunto de entrenamiento utilizando el método `read_csv()` de la biblioteca **pandas**. \n",
    " - Explorar los métodos `head()`, `info()` y `describe()` para obtener información relevante de los datos. "
   ]
  },
  {
   "cell_type": "code",
   "execution_count": null,
   "id": "d8efcf60",
   "metadata": {
    "hidden": true
   },
   "outputs": [],
   "source": []
  },
  {
   "cell_type": "markdown",
   "id": "amber-scenario",
   "metadata": {
    "heading_collapsed": true,
    "id": "amber-scenario"
   },
   "source": [
    "## Parte 2 - Exploración con pandas"
   ]
  },
  {
   "cell_type": "markdown",
   "id": "coated-million",
   "metadata": {
    "hidden": true,
    "id": "coated-million"
   },
   "source": [
    "#### Objetivos:\n",
    " - Identificar el atributo a predecir \n",
    " - Obtener el porcentaje de pasajeros del conjunto de entrenamiento que sobrevivió. ¿Es un problema de clases desbalanceadas? \n",
    " - Identificar los atributos numéricos y categóricos.\n",
    " - En caso de contar con datos categóricos identifique las categorías.\n",
    " - Obtener el porcentaje de pasajeros dentro de cada categoría que sobrevivió. (e.g. Intente responder: ¿Qué porcentaje de mujeres sobrevivieron? ¿Qué porcentaje de pasajero de la clase Pclass 1 sobrevivieron?)\n",
    " - Identificar y cuantificar datos faltantes.\n"
   ]
  },
  {
   "cell_type": "code",
   "execution_count": null,
   "id": "c4ff2de1",
   "metadata": {
    "hidden": true
   },
   "outputs": [],
   "source": []
  },
  {
   "cell_type": "markdown",
   "id": "inclusive-ministry",
   "metadata": {
    "hidden": true,
    "id": "inclusive-ministry",
    "solution2": "hidden",
    "solution2_first": true
   },
   "source": [
    "#### Ejercicio:\n",
    " - Filtrar datos en pandas utilizando `df.loc[..]`. (e.g. Intente obtener la información correspondiente al pasajero mayor a 60 años en Pclass 3 que sobrevivió)\n",
    " - Manipular columnas y filas de dataframes. (e.g. Genere un vector con las etiquetas del problema.)"
   ]
  },
  {
   "cell_type": "markdown",
   "id": "secure-davis",
   "metadata": {
    "hidden": true,
    "id": "secure-davis",
    "solution2": "hidden"
   },
   "source": [
    "**1)**"
   ]
  },
  {
   "cell_type": "code",
   "execution_count": null,
   "id": "convertible-liver",
   "metadata": {
    "ExecuteTime": {
     "end_time": "2022-02-21T11:31:58.517283Z",
     "start_time": "2022-02-21T11:31:58.493347Z"
    },
    "hidden": true,
    "id": "convertible-liver",
    "outputId": "5a7282e5-9d58-44cc-d955-a4e76dd1422b",
    "scrolled": false,
    "solution2": "hidden"
   },
   "outputs": [
    {
     "data": {
      "text/html": [
       "<div>\n",
       "<style scoped>\n",
       "    .dataframe tbody tr th:only-of-type {\n",
       "        vertical-align: middle;\n",
       "    }\n",
       "\n",
       "    .dataframe tbody tr th {\n",
       "        vertical-align: top;\n",
       "    }\n",
       "\n",
       "    .dataframe thead th {\n",
       "        text-align: right;\n",
       "    }\n",
       "</style>\n",
       "<table border=\"1\" class=\"dataframe\">\n",
       "  <thead>\n",
       "    <tr style=\"text-align: right;\">\n",
       "      <th></th>\n",
       "      <th>PassengerId</th>\n",
       "      <th>Survived</th>\n",
       "      <th>Pclass</th>\n",
       "      <th>Name</th>\n",
       "      <th>Sex</th>\n",
       "      <th>Age</th>\n",
       "      <th>SibSp</th>\n",
       "      <th>Parch</th>\n",
       "      <th>Ticket</th>\n",
       "      <th>Fare</th>\n",
       "      <th>Cabin</th>\n",
       "      <th>Embarked</th>\n",
       "    </tr>\n",
       "  </thead>\n",
       "  <tbody>\n",
       "    <tr>\n",
       "      <th>116</th>\n",
       "      <td>117</td>\n",
       "      <td>0</td>\n",
       "      <td>3</td>\n",
       "      <td>Connors, Mr. Patrick</td>\n",
       "      <td>male</td>\n",
       "      <td>70.5</td>\n",
       "      <td>0</td>\n",
       "      <td>0</td>\n",
       "      <td>370369</td>\n",
       "      <td>7.7500</td>\n",
       "      <td>NaN</td>\n",
       "      <td>Q</td>\n",
       "    </tr>\n",
       "    <tr>\n",
       "      <th>280</th>\n",
       "      <td>281</td>\n",
       "      <td>0</td>\n",
       "      <td>3</td>\n",
       "      <td>Duane, Mr. Frank</td>\n",
       "      <td>male</td>\n",
       "      <td>65.0</td>\n",
       "      <td>0</td>\n",
       "      <td>0</td>\n",
       "      <td>336439</td>\n",
       "      <td>7.7500</td>\n",
       "      <td>NaN</td>\n",
       "      <td>Q</td>\n",
       "    </tr>\n",
       "    <tr>\n",
       "      <th>326</th>\n",
       "      <td>327</td>\n",
       "      <td>0</td>\n",
       "      <td>3</td>\n",
       "      <td>Nysveen, Mr. Johan Hansen</td>\n",
       "      <td>male</td>\n",
       "      <td>61.0</td>\n",
       "      <td>0</td>\n",
       "      <td>0</td>\n",
       "      <td>345364</td>\n",
       "      <td>6.2375</td>\n",
       "      <td>NaN</td>\n",
       "      <td>S</td>\n",
       "    </tr>\n",
       "    <tr>\n",
       "      <th>483</th>\n",
       "      <td>484</td>\n",
       "      <td>1</td>\n",
       "      <td>3</td>\n",
       "      <td>Turkula, Mrs. (Hedwig)</td>\n",
       "      <td>female</td>\n",
       "      <td>63.0</td>\n",
       "      <td>0</td>\n",
       "      <td>0</td>\n",
       "      <td>4134</td>\n",
       "      <td>9.5875</td>\n",
       "      <td>NaN</td>\n",
       "      <td>S</td>\n",
       "    </tr>\n",
       "    <tr>\n",
       "      <th>851</th>\n",
       "      <td>852</td>\n",
       "      <td>0</td>\n",
       "      <td>3</td>\n",
       "      <td>Svensson, Mr. Johan</td>\n",
       "      <td>male</td>\n",
       "      <td>74.0</td>\n",
       "      <td>0</td>\n",
       "      <td>0</td>\n",
       "      <td>347060</td>\n",
       "      <td>7.7750</td>\n",
       "      <td>NaN</td>\n",
       "      <td>S</td>\n",
       "    </tr>\n",
       "  </tbody>\n",
       "</table>\n",
       "</div>"
      ],
      "text/plain": [
       "     PassengerId  Survived  Pclass                       Name     Sex   Age  \\\n",
       "116          117         0       3       Connors, Mr. Patrick    male  70.5   \n",
       "280          281         0       3           Duane, Mr. Frank    male  65.0   \n",
       "326          327         0       3  Nysveen, Mr. Johan Hansen    male  61.0   \n",
       "483          484         1       3     Turkula, Mrs. (Hedwig)  female  63.0   \n",
       "851          852         0       3        Svensson, Mr. Johan    male  74.0   \n",
       "\n",
       "     SibSp  Parch  Ticket    Fare Cabin Embarked  \n",
       "116      0      0  370369  7.7500   NaN        Q  \n",
       "280      0      0  336439  7.7500   NaN        Q  \n",
       "326      0      0  345364  6.2375   NaN        S  \n",
       "483      0      0    4134  9.5875   NaN        S  \n",
       "851      0      0  347060  7.7750   NaN        S  "
      ]
     },
     "execution_count": 18,
     "metadata": {},
     "output_type": "execute_result"
    }
   ],
   "source": [
    "data_train.loc[(data_train['Age'] > 60) & (data_train['Pclass'] == 3)]"
   ]
  },
  {
   "cell_type": "code",
   "execution_count": null,
   "id": "environmental-merchandise",
   "metadata": {
    "ExecuteTime": {
     "end_time": "2022-02-21T11:31:59.100114Z",
     "start_time": "2022-02-21T11:31:59.077168Z"
    },
    "hidden": true,
    "id": "environmental-merchandise",
    "outputId": "226ab91c-0f1e-4ea4-d3af-aae76847d359",
    "solution2": "hidden"
   },
   "outputs": [
    {
     "data": {
      "text/html": [
       "<div>\n",
       "<style scoped>\n",
       "    .dataframe tbody tr th:only-of-type {\n",
       "        vertical-align: middle;\n",
       "    }\n",
       "\n",
       "    .dataframe tbody tr th {\n",
       "        vertical-align: top;\n",
       "    }\n",
       "\n",
       "    .dataframe thead th {\n",
       "        text-align: right;\n",
       "    }\n",
       "</style>\n",
       "<table border=\"1\" class=\"dataframe\">\n",
       "  <thead>\n",
       "    <tr style=\"text-align: right;\">\n",
       "      <th></th>\n",
       "      <th>PassengerId</th>\n",
       "      <th>Survived</th>\n",
       "      <th>Pclass</th>\n",
       "      <th>Name</th>\n",
       "      <th>Sex</th>\n",
       "      <th>Age</th>\n",
       "      <th>SibSp</th>\n",
       "      <th>Parch</th>\n",
       "      <th>Ticket</th>\n",
       "      <th>Fare</th>\n",
       "      <th>Cabin</th>\n",
       "      <th>Embarked</th>\n",
       "    </tr>\n",
       "  </thead>\n",
       "  <tbody>\n",
       "    <tr>\n",
       "      <th>483</th>\n",
       "      <td>484</td>\n",
       "      <td>1</td>\n",
       "      <td>3</td>\n",
       "      <td>Turkula, Mrs. (Hedwig)</td>\n",
       "      <td>female</td>\n",
       "      <td>63.0</td>\n",
       "      <td>0</td>\n",
       "      <td>0</td>\n",
       "      <td>4134</td>\n",
       "      <td>9.5875</td>\n",
       "      <td>NaN</td>\n",
       "      <td>S</td>\n",
       "    </tr>\n",
       "  </tbody>\n",
       "</table>\n",
       "</div>"
      ],
      "text/plain": [
       "     PassengerId  Survived  Pclass                    Name     Sex   Age  \\\n",
       "483          484         1       3  Turkula, Mrs. (Hedwig)  female  63.0   \n",
       "\n",
       "     SibSp  Parch Ticket    Fare Cabin Embarked  \n",
       "483      0      0   4134  9.5875   NaN        S  "
      ]
     },
     "execution_count": 19,
     "metadata": {},
     "output_type": "execute_result"
    }
   ],
   "source": [
    "data_train.loc[(data_train['Age'] > 60) & (data_train['Pclass'] == 3) & (data_train['Survived'] == 1)]"
   ]
  },
  {
   "cell_type": "markdown",
   "id": "fallen-province",
   "metadata": {
    "hidden": true,
    "id": "fallen-province",
    "solution2": "hidden"
   },
   "source": [
    "**2)**"
   ]
  },
  {
   "cell_type": "code",
   "execution_count": null,
   "id": "continental-cabin",
   "metadata": {
    "ExecuteTime": {
     "end_time": "2022-02-21T11:32:00.227091Z",
     "start_time": "2022-02-21T11:32:00.213130Z"
    },
    "hidden": true,
    "id": "continental-cabin",
    "outputId": "183e77c5-ec62-4bf6-b0cc-c0df6e19f5bd",
    "solution2": "hidden"
   },
   "outputs": [
    {
     "data": {
      "text/plain": [
       "0      0\n",
       "1      1\n",
       "2      1\n",
       "3      1\n",
       "4      0\n",
       "      ..\n",
       "886    0\n",
       "887    1\n",
       "888    0\n",
       "889    1\n",
       "890    0\n",
       "Name: Survived, Length: 891, dtype: int64"
      ]
     },
     "execution_count": 20,
     "metadata": {},
     "output_type": "execute_result"
    }
   ],
   "source": [
    "y_target = data_train['Survived']\n",
    "y_target"
   ]
  },
  {
   "cell_type": "code",
   "execution_count": null,
   "id": "charitable-dominant",
   "metadata": {
    "ExecuteTime": {
     "end_time": "2022-02-21T11:32:00.748080Z",
     "start_time": "2022-02-21T11:32:00.738107Z"
    },
    "hidden": true,
    "id": "charitable-dominant",
    "outputId": "490a4278-b32f-4774-82de-86a29957a789",
    "solution2": "hidden"
   },
   "outputs": [
    {
     "data": {
      "text/plain": [
       "0      0\n",
       "1      1\n",
       "2      1\n",
       "3      1\n",
       "4      0\n",
       "      ..\n",
       "886    0\n",
       "887    1\n",
       "888    0\n",
       "889    1\n",
       "890    0\n",
       "Name: Survived, Length: 891, dtype: int64"
      ]
     },
     "execution_count": 21,
     "metadata": {},
     "output_type": "execute_result"
    }
   ],
   "source": [
    "y_target = data_train.loc[:, 'Survived']\n",
    "y_target"
   ]
  },
  {
   "cell_type": "code",
   "execution_count": null,
   "id": "received-mother",
   "metadata": {
    "ExecuteTime": {
     "end_time": "2022-02-21T11:32:01.299941Z",
     "start_time": "2022-02-21T11:32:01.278002Z"
    },
    "hidden": true,
    "id": "received-mother",
    "outputId": "b7195108-8ce0-49df-9d06-9466f0401618",
    "solution2": "hidden"
   },
   "outputs": [
    {
     "name": "stdout",
     "output_type": "stream",
     "text": [
      "['PassengerId', 'Survived', 'Pclass', 'Name', 'Sex', 'Age', 'SibSp', 'Parch', 'Ticket', 'Fare', 'Cabin', 'Embarked']\n",
      "1\n"
     ]
    },
    {
     "data": {
      "text/plain": [
       "0      0\n",
       "1      1\n",
       "2      1\n",
       "3      1\n",
       "4      0\n",
       "      ..\n",
       "886    0\n",
       "887    1\n",
       "888    0\n",
       "889    1\n",
       "890    0\n",
       "Name: Survived, Length: 891, dtype: int64"
      ]
     },
     "execution_count": 22,
     "metadata": {},
     "output_type": "execute_result"
    }
   ],
   "source": [
    "column_names = data_train.columns.to_list()\n",
    "print(column_names)\n",
    "\n",
    "index_survived = column_names.index('Survived')\n",
    "print(index_survived)\n",
    "\n",
    "y_target = data_train.iloc[:,index_survived]\n",
    "y_target"
   ]
  },
  {
   "cell_type": "markdown",
   "id": "featured-pharmacy",
   "metadata": {
    "heading_collapsed": true,
    "id": "featured-pharmacy"
   },
   "source": [
    "## Parte 3 - Descubrir y visualizar los datos para obtener información relevante.  \n"
   ]
  },
  {
   "cell_type": "markdown",
   "id": "broadband-tsunami",
   "metadata": {
    "hidden": true,
    "id": "broadband-tsunami"
   },
   "source": [
    "#### Objetivos:\n",
    "\n",
    " - Explore [métodos de visualización](https://pandas.pydata.org/pandas-docs/stable/reference/api/pandas.DataFrame.plot.html) con **pandas**. Para graficar con *pandas* es necesario importar *matplotlib*. Puede ser útil comparar los histogramas de cada clase contra los histogramas de supervivencia en cada clase. \n",
    " - Estudie la correlación de las características con la etiqueta a predecir. Se sugiere utilizar el método `corr()`.\n",
    " - Concluya que factores tuvieron mayor incidencia en la supervivencia o no de un pasajero."
   ]
  },
  {
   "cell_type": "code",
   "execution_count": null,
   "id": "7714659e",
   "metadata": {
    "hidden": true
   },
   "outputs": [],
   "source": []
  },
  {
   "cell_type": "markdown",
   "id": "duplicate-landing",
   "metadata": {
    "ExecuteTime": {
     "end_time": "2022-02-14T13:43:12.322654Z",
     "start_time": "2022-02-14T13:43:12.318666Z"
    },
    "heading_collapsed": true,
    "id": "duplicate-landing"
   },
   "source": [
    "## Parte 4 - Un Primer Pipeline "
   ]
  },
  {
   "cell_type": "markdown",
   "id": "retired-first",
   "metadata": {
    "hidden": true,
    "id": "retired-first"
   },
   "source": [
    "#### Objetivos:\n",
    "\n",
    "- Construir un **pipeline** que realice el preprocesamiento de los datos necesario para que éstos puedan ser utilizados por un clasificador de *sklearn*. Dicho preprocesamiento deberá en primera instancia realizar las siguientes tareas:\n",
    "\n",
    "    1. Descartar los atributos *Cabin*, *Name* y *Ticket*.\n",
    "    2. Rellenar datos faltantes con algún criterio elegido"
   ]
  },
  {
   "cell_type": "code",
   "execution_count": null,
   "id": "1eed5659",
   "metadata": {
    "hidden": true
   },
   "outputs": [],
   "source": []
  },
  {
   "cell_type": "markdown",
   "id": "answering-yacht",
   "metadata": {
    "hidden": true,
    "id": "answering-yacht",
    "solution2": "hidden",
    "solution2_first": true
   },
   "source": [
    "#### Ejercicio:\n",
    " - Acceda a los elementos del pipeline.  "
   ]
  },
  {
   "cell_type": "markdown",
   "id": "signed-daily",
   "metadata": {
    "hidden": true,
    "id": "signed-daily",
    "solution2": "hidden"
   },
   "source": [
    "Para acceder a las distintas transformaciones se usa `named_transformers_` y para acceder a los steps de cada transformación `named_steps`"
   ]
  },
  {
   "cell_type": "code",
   "execution_count": null,
   "id": "latest-grass",
   "metadata": {
    "ExecuteTime": {
     "end_time": "2022-02-21T11:32:41.314068Z",
     "start_time": "2022-02-21T11:32:41.291125Z"
    },
    "hidden": true,
    "id": "latest-grass",
    "outputId": "aba6d625-f665-4cfb-a9f3-7ba5b4639782",
    "scrolled": false,
    "solution2": "hidden"
   },
   "outputs": [
    {
     "data": {
      "text/plain": [
       "<bound method ColumnTransformer.get_feature_names of ColumnTransformer(transformers=[('num',\n",
       "                                 Pipeline(steps=[('imputer',\n",
       "                                                  SimpleImputer(strategy='median')),\n",
       "                                                 ('std_scaler',\n",
       "                                                  StandardScaler())]),\n",
       "                                 ['PassengerId', 'Pclass', 'Age', 'SibSp',\n",
       "                                  'Parch', 'Fare']),\n",
       "                                ('cat',\n",
       "                                 Pipeline(steps=[('imputer',\n",
       "                                                  SimpleImputer(strategy='most_frequent')),\n",
       "                                                 ('ohe', OneHotEncoder())]),\n",
       "                                 ['Sex', 'Embarked'])])>"
      ]
     },
     "execution_count": 37,
     "metadata": {},
     "output_type": "execute_result"
    }
   ],
   "source": [
    "preprocessing_pipeline_default.get_feature_names"
   ]
  },
  {
   "cell_type": "code",
   "execution_count": null,
   "id": "subject-console",
   "metadata": {
    "ExecuteTime": {
     "end_time": "2022-02-21T11:32:41.977263Z",
     "start_time": "2022-02-21T11:32:41.963303Z"
    },
    "hidden": true,
    "id": "subject-console",
    "outputId": "6062fb00-a79f-4e74-8b1e-81411192a3b0",
    "scrolled": true,
    "solution2": "hidden"
   },
   "outputs": [
    {
     "data": {
      "text/plain": [
       "{'num': Pipeline(steps=[('imputer', SimpleImputer(strategy='median')),\n",
       "                 ('std_scaler', StandardScaler())]),\n",
       " 'cat': Pipeline(steps=[('imputer', SimpleImputer(strategy='most_frequent')),\n",
       "                 ('ohe', OneHotEncoder())]),\n",
       " 'remainder': 'drop'}"
      ]
     },
     "execution_count": 38,
     "metadata": {},
     "output_type": "execute_result"
    }
   ],
   "source": [
    "preprocessing_pipeline_default.named_transformers_"
   ]
  },
  {
   "cell_type": "code",
   "execution_count": null,
   "id": "double-scoop",
   "metadata": {
    "ExecuteTime": {
     "end_time": "2022-02-21T11:32:42.722270Z",
     "start_time": "2022-02-21T11:32:42.714294Z"
    },
    "hidden": true,
    "id": "double-scoop",
    "outputId": "9955fc90-5ba6-40b1-d5a3-c610d77943ba",
    "solution2": "hidden"
   },
   "outputs": [
    {
     "data": {
      "text/plain": [
       "[array(['female', 'male'], dtype=object), array(['C', 'Q', 'S'], dtype=object)]"
      ]
     },
     "execution_count": 39,
     "metadata": {},
     "output_type": "execute_result"
    }
   ],
   "source": [
    "preprocessing_pipeline_default.named_transformers_['cat'].named_steps['ohe'].categories_"
   ]
  },
  {
   "cell_type": "markdown",
   "id": "earlier-board",
   "metadata": {
    "heading_collapsed": true,
    "id": "earlier-board"
   },
   "source": [
    "## Parte 5 - Un Segundo Pipeline"
   ]
  },
  {
   "cell_type": "markdown",
   "id": "lesser-teacher",
   "metadata": {
    "hidden": true,
    "id": "lesser-teacher"
   },
   "source": [
    "#### Objetivos:\n",
    "\n",
    " - Realizar un **pipeline** que se quede como único atributo el género del pasajero. "
   ]
  },
  {
   "cell_type": "code",
   "execution_count": null,
   "id": "2352a014",
   "metadata": {
    "hidden": true
   },
   "outputs": [],
   "source": []
  },
  {
   "cell_type": "markdown",
   "id": "faced-climb",
   "metadata": {
    "heading_collapsed": true,
    "id": "faced-climb"
   },
   "source": [
    "## Parte 6 - Clasificación con Regresión Logística"
   ]
  },
  {
   "cell_type": "markdown",
   "id": "massive-burst",
   "metadata": {
    "hidden": true,
    "id": "massive-burst"
   },
   "source": [
    "#### Objetivos:\n",
    " - Con los datos procesados por los pipelines de la Parte 4 y Parte 5 entrenar un modelo de *Regresión Logística* con parámetros por defecto y estimar el desempeño mediante validación cruzada 5-folds.\n",
    " - Observe los desempeños obtenidos. ¿Qué puede decir sobre los datos? ¿Y sobre el modelo?"
   ]
  },
  {
   "cell_type": "code",
   "execution_count": null,
   "id": "789cf417",
   "metadata": {
    "hidden": true
   },
   "outputs": [],
   "source": []
  },
  {
   "cell_type": "markdown",
   "id": "entertaining-asian",
   "metadata": {
    "ExecuteTime": {
     "end_time": "2022-02-14T14:27:14.408426Z",
     "start_time": "2022-02-14T14:27:14.398454Z"
    },
    "heading_collapsed": true,
    "id": "entertaining-asian"
   },
   "source": [
    "## Parte 7 - Busqueda de Hiperparámetros"
   ]
  },
  {
   "cell_type": "markdown",
   "id": "friendly-melissa",
   "metadata": {
    "hidden": true,
    "id": "friendly-melissa"
   },
   "source": [
    "#### Objetivos:\n",
    " - Utilizar *Grid Search* para encontrar el valor óptimo del parámetro *C* del mejor clasificador de *Regresión Logística* obtenido de la parte anterior. "
   ]
  },
  {
   "cell_type": "code",
   "execution_count": null,
   "id": "d769285b",
   "metadata": {
    "hidden": true
   },
   "outputs": [],
   "source": []
  },
  {
   "cell_type": "markdown",
   "id": "stunning-price",
   "metadata": {
    "heading_collapsed": true,
    "id": "stunning-price"
   },
   "source": [
    "## Parte 8 - Guardar Modelo"
   ]
  },
  {
   "cell_type": "markdown",
   "id": "prompt-capture",
   "metadata": {
    "hidden": true,
    "id": "prompt-capture"
   },
   "source": [
    "#### Objetivos:\n",
    "- Guarde el modelo obtenido de la parte anterior.\n",
    " \n",
    "*Observación: Es usual que entrenar modelos tome un tiempo considerable por lo que el guardado del modelo resulta de vital importancia.*"
   ]
  },
  {
   "cell_type": "code",
   "execution_count": null,
   "id": "0c58db1e",
   "metadata": {
    "hidden": true
   },
   "outputs": [],
   "source": []
  },
  {
   "cell_type": "markdown",
   "id": "careful-biology",
   "metadata": {
    "heading_collapsed": true,
    "id": "careful-biology"
   },
   "source": [
    "## Parte 9 - Generar predicciones en conjunto de test"
   ]
  },
  {
   "cell_type": "markdown",
   "id": "induced-working",
   "metadata": {
    "hidden": true,
    "id": "induced-working"
   },
   "source": [
    "#### Objetivos:\n",
    " - Levante el modelo guardado en la parte anterior.\n",
    " - Genere las predicciones con el conjunto de test."
   ]
  },
  {
   "cell_type": "code",
   "execution_count": null,
   "id": "0290bf44",
   "metadata": {
    "hidden": true
   },
   "outputs": [],
   "source": []
  },
  {
   "cell_type": "markdown",
   "id": "sharing-transparency",
   "metadata": {
    "heading_collapsed": true,
    "id": "sharing-transparency"
   },
   "source": [
    "## Parte 10 - Generar Kaggle Submission"
   ]
  },
  {
   "cell_type": "markdown",
   "id": "checked-disaster",
   "metadata": {
    "hidden": true,
    "id": "checked-disaster"
   },
   "source": [
    "#### Objetivos:\n",
    "\n",
    " - Generar una Kaggle Submission utilizando las prediciones obtenidas en el conjunto de Test. Puede ver un ejemplo de como hacerlo [aquí](https://www.kaggle.com/jlawman/complete-beginner-your-first-titanic-submission?scriptVersionId=1700267&cellId=17). "
   ]
  },
  {
   "cell_type": "code",
   "execution_count": null,
   "id": "811a018d",
   "metadata": {
    "hidden": true
   },
   "outputs": [],
   "source": []
  },
  {
   "cell_type": "markdown",
   "id": "6b20bbb1",
   "metadata": {
    "hidden": true
   },
   "source": [
    "Una vez generado el archivo *.csv*, la submission se puede realizar subiendo directamente el archivo a la página de Kaggle o desde la línea de comandos como:\n",
    "\n",
    "`!kaggle competitions submit -c [COMPETITION] -f [FILE] -m [MESSAGE]`  "
   ]
  },
  {
   "cell_type": "code",
   "execution_count": 74,
   "id": "49ff3d48",
   "metadata": {
    "hidden": true
   },
   "outputs": [
    {
     "name": "stdout",
     "output_type": "stream",
     "text": [
      "Successfully submitted to Titanic - Machine Learning from Disaster\n"
     ]
    },
    {
     "name": "stderr",
     "output_type": "stream",
     "text": [
      "\n",
      "  0%|          | 0.00/3.18k [00:00<?, ?B/s]\n",
      "100%|##########| 3.18k/3.18k [00:02<00:00, 1.61kB/s]\n"
     ]
    }
   ],
   "source": [
    "!kaggle competitions submit -c titanic -f my_first_titanic_predictions.csv -m primer_submission"
   ]
  },
  {
   "cell_type": "markdown",
   "id": "partial-enzyme",
   "metadata": {
    "ExecuteTime": {
     "end_time": "2022-02-14T15:13:41.567355Z",
     "start_time": "2022-02-14T15:13:41.549405Z"
    },
    "heading_collapsed": true,
    "id": "partial-enzyme"
   },
   "source": [
    "## Parte 11 - Exploración"
   ]
  },
  {
   "cell_type": "markdown",
   "id": "static-associate",
   "metadata": {
    "heading_collapsed": true,
    "hidden": true,
    "id": "static-associate"
   },
   "source": [
    "### Generar un mejor Modelo"
   ]
  },
  {
   "cell_type": "markdown",
   "id": "alpine-approach",
   "metadata": {
    "heading_collapsed": true,
    "hidden": true,
    "id": "alpine-approach"
   },
   "source": [
    "#### Objetivos:\n",
    "\n",
    " - Generar un nuevo **pipeline** y evaluar si éste genera un mejor clasificador. Algunas de las opciones que se pueden explorar son las siguientes:\n",
    "    * Evaluar la característica Pclass como dato numérico, ordinal o categórico.    \n",
    "    * Estudiar que escalado sirve en los atributos numéricos   \n",
    "    * Generar y/o sustituir las características, por ejemplo:   \n",
    "        - Reemplazar *SibSp* y *Parch* por la suma     \n",
    "        - Discretizar algún atributo numérico, por ejemplo la edad.\n",
    "    * Construir un **pipeline** que permita determinar automáticamente qué grupo de características utilizar y qué estrategia seguir para lidiar con datos faltantes.\n",
    "    * Estudiar algún modelo alternativo (*Se sugiere experimentar con SVM o RandomForestClassifier*) "
   ]
  },
  {
   "cell_type": "code",
   "execution_count": null,
   "id": "57e76c40",
   "metadata": {
    "hidden": true
   },
   "outputs": [],
   "source": []
  },
  {
   "cell_type": "markdown",
   "id": "hydraulic-particle",
   "metadata": {
    "heading_collapsed": true,
    "hidden": true,
    "id": "hydraulic-particle"
   },
   "source": [
    "### Interpretabilidad de un Modelo Simple"
   ]
  },
  {
   "cell_type": "markdown",
   "id": "operational-valuation",
   "metadata": {
    "hidden": true,
    "id": "operational-valuation"
   },
   "source": [
    "En esta sección se buscará generar interpretabilidad de algún modelo simple, para obtener información útil sobre los datos. Se utilizará como referencia de esta sección el [Capítulo 5]( https://christophm.github.io/interpretable-ml-book/simple.html) del libro Interpretable Machine Learning. "
   ]
  },
  {
   "cell_type": "markdown",
   "id": "favorite-palestine",
   "metadata": {
    "hidden": true,
    "id": "favorite-palestine"
   },
   "source": [
    "Se trabajará con Regresión Logística en este caso. Este modelo es utilizado comúnmente para estimar la probabilidad de que una instancia pertenezca a una clase en particular. Si la probabilidad estimada es superior al 50%, entonces el modelo predice que la instancia pertenece a esa clase, y viceversa. Esto lo convierte en un clasificador binario. (Más información en Capítulo 4)."
   ]
  },
  {
   "cell_type": "markdown",
   "id": "manual-biodiversity",
   "metadata": {
    "hidden": true,
    "id": "manual-biodiversity"
   },
   "source": [
    "En regresión logística el modelo lineal se compone con en la función logística teniendo así la siguiente expresión: "
   ]
  },
  {
   "cell_type": "markdown",
   "id": "2dd2d65a",
   "metadata": {
    "hidden": true,
    "id": "forced-cornwall"
   },
   "source": [
    "\\begin{equation}\n",
    "P\\left(y^{(i)}=1\\right)=\\frac{1}{1+\\exp \\left(-\\left(\\beta_{0}+\\beta_{1} x_{1}^{(i)}+\\ldots+\\beta_{p} x_{p}^{(i)}\\right)\\right)}\n",
    "\\end{equation}"
   ]
  },
  {
   "cell_type": "markdown",
   "id": "psychological-operations",
   "metadata": {
    "hidden": true,
    "id": "psychological-operations"
   },
   "source": [
    "Siendo $\\beta_{p} $ los coeficientes (pesos) del modelo. "
   ]
  },
  {
   "cell_type": "markdown",
   "id": "fluid-pontiac",
   "metadata": {
    "hidden": true,
    "id": "fluid-pontiac"
   },
   "source": [
    "Para lograr interpretar los coeficientes aprendidos por el modelo, se reformula la ecuación anterior de forma de obtener una expresión lineal de los pesos:"
   ]
  },
  {
   "cell_type": "markdown",
   "id": "adopted-matthew",
   "metadata": {
    "hidden": true,
    "id": "adopted-matthew"
   },
   "source": [
    "\\begin{equation}\n",
    "\\ln \\left(\\frac{P(y=1)}{1-P(y=1)}\\right)=\\log \\left(\\frac{P(y=1)}{P(y=0)}\\right)=\\beta_{0}+\\beta_{1} x_{1}+\\ldots+\\beta_{p} x_{p}\n",
    "\\end{equation}"
   ]
  },
  {
   "cell_type": "markdown",
   "id": "infrared-board",
   "metadata": {
    "hidden": true,
    "id": "infrared-board"
   },
   "source": [
    "Por lo tanto, despejando de la ecuación anterior se obtendría: "
   ]
  },
  {
   "cell_type": "markdown",
   "id": "positive-process",
   "metadata": {
    "hidden": true,
    "id": "positive-process"
   },
   "source": [
    "\\begin{equation}\n",
    "\\frac{P(y=1)}{1-P(y=1)}=o d d s=\\exp \\left(\\beta_{0}+\\beta_{1} x_{1}+\\ldots+\\beta_{p} x_{p}\\right)\n",
    "\\end{equation}"
   ]
  },
  {
   "cell_type": "markdown",
   "id": "operational-contribution",
   "metadata": {
    "hidden": true,
    "id": "operational-contribution"
   },
   "source": [
    "Obtenida la expresión anterior, será de interés estudiar como varía la función “odds”, es decir como se modifica la probabilidad de ocurrencia de un evento sobre la probabilidad de ningún evento, al producirse cambios en una característica. Para ello se realiza el siguiente estudio: "
   ]
  },
  {
   "cell_type": "markdown",
   "id": "dimensional-response",
   "metadata": {
    "hidden": true,
    "id": "dimensional-response"
   },
   "source": [
    "\\begin{equation}\n",
    "\\frac{\\operatorname{odds}_{x_{j}+1}}{o d d s}=\\frac{\\exp \\left(\\beta_{0}+\\beta_{1} x_{1}+\\ldots+\\beta_{j}\\left(x_{j}+1\\right)+\\ldots+\\beta_{p} x_{p}\\right)}{\\exp \\left(\\beta_{0}+\\beta_{1} x_{1}+\\ldots+\\beta_{j} x_{j}+\\ldots+\\beta_{p} x_{p}\\right)}\n",
    "\\end{equation}"
   ]
  },
  {
   "cell_type": "markdown",
   "id": "short-korea",
   "metadata": {
    "hidden": true,
    "id": "short-korea"
   },
   "source": [
    "Obteniendo pues: "
   ]
  },
  {
   "cell_type": "markdown",
   "id": "manufactured-internship",
   "metadata": {
    "hidden": true,
    "id": "manufactured-internship"
   },
   "source": [
    "\\begin{equation}\n",
    "\\frac{o d d s_{x_{j}+1}}{o d d s}=\\exp \\left(\\beta_{j}\\left(x_{j}+1\\right)-\\beta_{j} x_{j}\\right)=\\exp \\left(\\beta_{j}\\right)\n",
    "\\end{equation}"
   ]
  },
  {
   "cell_type": "markdown",
   "id": "faced-switzerland",
   "metadata": {
    "hidden": true,
    "id": "faced-switzerland"
   },
   "source": [
    "Entonces, un cambio en una característica por una unidad cambia la razón de probabilidades (multiplicativa) por un factor de: $\\exp \\left(\\beta_{j}\\right)$"
   ]
  },
  {
   "cell_type": "markdown",
   "id": "selected-meeting",
   "metadata": {
    "hidden": true,
    "id": "selected-meeting"
   },
   "source": [
    "#### Objetivos:\n",
    "\n",
    "Utilizando el **pipeline** de la parte 4: \n",
    " - Entrenar un modelo de Regresión Logística con parámetros por defecto. \n",
    " - Obtener los coeficientes aprendidos y calcular los Odds Ratios. \n",
    " - Concluya que características resultan más relevantes a la hora de predecir si un pasajero sobrevivió. ¿Estas observaciones coinciden con las vistas en las Parte 3?"
   ]
  },
  {
   "cell_type": "code",
   "execution_count": null,
   "id": "6f47dc0b",
   "metadata": {
    "hidden": true
   },
   "outputs": [],
   "source": []
  },
  {
   "cell_type": "markdown",
   "id": "weighted-poetry",
   "metadata": {
    "heading_collapsed": true,
    "id": "weighted-poetry"
   },
   "source": [
    "## Parte 12 - Primer acercamiento a los datos del primer proyecto.  \n"
   ]
  },
  {
   "cell_type": "markdown",
   "id": "suffering-minority",
   "metadata": {
    "hidden": true,
    "id": "suffering-minority"
   },
   "source": [
    "A lo largo del curso se abordarán dos proyectos. El objetivo del primer proyecto será diseñar e implementar un clasificador para el problema de [detección del bosón de Higss](https://www.kaggle.com/c/higgs-boson). Este desafío buscará separar aquellos eventos en donde hay presencia del bosón de Higgs (llamados \"signals\") de los que no\n",
    "(llamados \"background\").\n",
    "\n",
    "Para los proyectos se trabajará en grupos de tres estudiantes. \n",
    "\n",
    "En esta instancia se realizará un primer abordaje a los datos que están disponibles en el [desafío de Kaggle](https://www.kaggle.com/c/higgs-boson/data).\n"
   ]
  },
  {
   "cell_type": "markdown",
   "id": "global-prefix",
   "metadata": {
    "hidden": true,
    "id": "global-prefix"
   },
   "source": [
    "#### Objetivos:\n",
    "\n",
    " - Cree una función que descargue y levante los datos del proyecto. Automatizar el proceso de obtención de datos es útil si se necesita instalar el conjunto de datos en varias máquinas. También, es particularmente útil si los datos cambian regularmente.\n",
    " - Identificar el atributo a predecir ¿Es un problema de clases desbalanceadas? \n",
    " - Convertir las etiquetas a predecir a variables numéricas, en particular 0 para la clase *background* y 1 para la clase *signal*. Este proceso le permitirá posteriormente entrenar algún modelo de clasificación sin problemas.\n",
    " - Identificar si hay datos faltantes. ¿En caso de ser así cuántos datos faltantes hay en cada característica? *Observación: No necesariamente los datos faltantes se presentan como NaN [Ver Documentación del Proyecto](https://www.kaggle.com/c/higgs-boson/data)*\n",
    " - Estudiar la correlación entre las características y la etiqueta a predecir. *Observar que si los datos faltantes no aparecen como NaN afectarán el estudio de la correlación.*\n",
    " - Calcular el valor esperado de *signals* y *backgrounds* en un año. Para obtener este resultado será necesario entender el significado de la característica 'Weights' para ello sugerimos leer la [Documentación Técnica del Proyecto.](https://higgsml.lal.in2p3.fr/files/2014/04/documentation_v1.8.pdf) "
   ]
  },
  {
   "cell_type": "code",
   "execution_count": null,
   "id": "closed-telephone",
   "metadata": {
    "hidden": true,
    "id": "closed-telephone"
   },
   "outputs": [],
   "source": []
  }
 ],
 "metadata": {
  "colab": {
   "collapsed_sections": [
    "similar-surgery",
    "40f58d99",
    "baeed628",
    "616868da",
    "efficient-thailand",
    "hundred-impact",
    "coated-million",
    "inclusive-ministry",
    "broadband-tsunami",
    "innocent-edward",
    "retired-first",
    "answering-yacht",
    "lesser-teacher",
    "massive-burst",
    "friendly-melissa",
    "prompt-capture",
    "induced-working",
    "checked-disaster",
    "alpine-approach",
    "selected-meeting",
    "global-prefix"
   ],
   "name": "Titanic_Reversion_2022.ipynb",
   "provenance": []
  },
  "kernelspec": {
   "display_name": "Python 3 (ipykernel)",
   "language": "python",
   "name": "python3"
  },
  "language_info": {
   "codemirror_mode": {
    "name": "ipython",
    "version": 3
   },
   "file_extension": ".py",
   "mimetype": "text/x-python",
   "name": "python",
   "nbconvert_exporter": "python",
   "pygments_lexer": "ipython3",
   "version": "3.8.12"
  },
  "toc": {
   "base_numbering": 1,
   "nav_menu": {},
   "number_sections": true,
   "sideBar": true,
   "skip_h1_title": false,
   "title_cell": "Table of Contents",
   "title_sidebar": "Contents",
   "toc_cell": false,
   "toc_position": {},
   "toc_section_display": true,
   "toc_window_display": false
  },
  "varInspector": {
   "cols": {
    "lenName": 16,
    "lenType": 16,
    "lenVar": 40
   },
   "kernels_config": {
    "python": {
     "delete_cmd_postfix": "",
     "delete_cmd_prefix": "del ",
     "library": "var_list.py",
     "varRefreshCmd": "print(var_dic_list())"
    },
    "r": {
     "delete_cmd_postfix": ") ",
     "delete_cmd_prefix": "rm(",
     "library": "var_list.r",
     "varRefreshCmd": "cat(var_dic_list()) "
    }
   },
   "position": {
    "height": "484.844px",
    "left": "725px",
    "right": "20px",
    "top": "118px",
    "width": "514px"
   },
   "types_to_exclude": [
    "module",
    "function",
    "builtin_function_or_method",
    "instance",
    "_Feature"
   ],
   "window_display": false
  }
 },
 "nbformat": 4,
 "nbformat_minor": 5
}
